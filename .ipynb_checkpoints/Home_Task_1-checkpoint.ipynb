{
 "cells": [
  {
   "cell_type": "code",
   "execution_count": 22,
   "id": "c9dcae54",
   "metadata": {},
   "outputs": [],
   "source": [
    "import numpy as np\n",
    "\"\"\" Function comb:\n",
    "Input: n - общее количетсво элементов, k- необходимое количество элемент\n",
    "Output: количество сочетаний\n",
    "\"\"\" \n",
    "def comb(n, k):\n",
    "    return np.math.factorial(n) // (np.math.factorial(k) * np.math.factorial(n - k))"
   ]
  },
  {
   "cell_type": "code",
   "execution_count": 23,
   "id": "3942a26d",
   "metadata": {},
   "outputs": [
    {
     "name": "stdout",
     "output_type": "stream",
     "text": [
      "76145\n"
     ]
    }
   ],
   "source": [
    "#Задание №1\n",
    "print(comb(52, 4) - comb(48, 4))"
   ]
  },
  {
   "cell_type": "code",
   "execution_count": 24,
   "id": "561b0694",
   "metadata": {},
   "outputs": [
    {
     "name": "stdout",
     "output_type": "stream",
     "text": [
      "0.5727644652250146\n",
      "0.35797779076563413\n"
     ]
    }
   ],
   "source": [
    "#Задание №2-3\n",
    "print(comb(50, 3) / comb(60, 3))\n",
    "print(comb(50, 2) * comb(10, 1) / comb(60, 3))"
   ]
  },
  {
   "cell_type": "code",
   "execution_count": 25,
   "id": "cc7d57a8",
   "metadata": {},
   "outputs": [
    {
     "name": "stdout",
     "output_type": "stream",
     "text": [
      "0.010980000000000009\n",
      "0.09016393442622944\n"
     ]
    }
   ],
   "source": [
    "#Задание №4\n",
    "a = 0.001\n",
    "b = 0.99\n",
    "p_b = a*b+(1-b)*(1-a)\n",
    "print (p_b)\n",
    "probability = (a*b/p_b)\n",
    "print(probability)"
   ]
  },
  {
   "cell_type": "code",
   "execution_count": null,
   "id": "3774a419",
   "metadata": {},
   "outputs": [],
   "source": []
  }
 ],
 "metadata": {
  "kernelspec": {
   "display_name": "Python 3 (ipykernel)",
   "language": "python",
   "name": "python3"
  },
  "language_info": {
   "codemirror_mode": {
    "name": "ipython",
    "version": 3
   },
   "file_extension": ".py",
   "mimetype": "text/x-python",
   "name": "python",
   "nbconvert_exporter": "python",
   "pygments_lexer": "ipython3",
   "version": "3.9.2"
  }
 },
 "nbformat": 4,
 "nbformat_minor": 5
}
