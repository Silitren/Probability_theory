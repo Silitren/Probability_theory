{
 "cells": [
  {
   "cell_type": "code",
   "execution_count": 36,
   "id": "fe7573a7",
   "metadata": {},
   "outputs": [],
   "source": [
    "import pandas as pd\n",
    "import numpy as np\n",
    "from statsmodels.stats.weightstats import _tconfint_generic as t_stat"
   ]
  },
  {
   "cell_type": "markdown",
   "id": "4a1a361e",
   "metadata": {},
   "source": [
    "Задание №1.\n",
    "Даны значения величины заработной платы заемщиков банка (zp) и значения их поведенческого кредитного скоринга (ks):\n",
    "zp = [35, 45, 190, 200, 40, 70, 54, 150, 120, 110],\n",
    "ks = [401, 574, 874, 919, 459, 739, 653, 902, 746, 832].\n",
    "Найдите ковариацию этих двух величин с помощью элементарных действий, а затем с помощью функции cov из numpy\n",
    "Полученные значения должны быть равны.\n",
    "Найдите коэффициент корреляции Пирсона с помощью ковариации и среднеквадратичных отклонений двух признаков,\n",
    "а затем с использованием функций из библиотек numpy и pandas.\n"
   ]
  },
  {
   "cell_type": "code",
   "execution_count": 31,
   "id": "c29afd24",
   "metadata": {},
   "outputs": [
    {
     "name": "stdout",
     "output_type": "stream",
     "text": [
      "10175.37777777778\n",
      "[[ 3882.93333333 10175.37777778]\n",
      " [10175.37777778 33854.32222222]]\n",
      "Коэффициент корреляции Пирсона\n",
      " Классический метод:\n",
      " 0.9861001023043514\n",
      "С помощью numpy:\n",
      " [[1.         0.88749009]\n",
      " [0.88749009 1.        ]]\n",
      "C помощью Pandas:\n",
      "          zp       ks\n",
      "zp  1.00000  0.88749\n",
      "ks  0.88749  1.00000\n"
     ]
    }
   ],
   "source": [
    "zp = np.array([35, 45, 190, 200, 40, 70, 54, 150, 120, 110])\n",
    "ks = np.array([401, 574, 874, 919, 459, 739, 653, 902, 746, 832])\n",
    "df = {'zp': zp, 'ks': ks}\n",
    "zpks_pd = pd.DataFrame (data=df)\n",
    "mzp = zp.mean()\n",
    "mks = ks.mean()\n",
    "cov_class = ((zp - mzp) * (ks - mks)).sum() / (zp.shape[0] - 1)\n",
    "cov_numpy = np.cov(zp, ks, ddof=1)\n",
    "print (f'{cov_class}')\n",
    "print (f'{cov_numpy}')\n",
    "corr_class = cov_class / (ks.std() * zp.std())\n",
    "corr_pandas = zpks_pd.corr()\n",
    "corr_numpy = np.corrcoef(zp, ks)\n",
    "print (f'Коэффициент корреляции Пирсона\\n Классический метод:\\n {corr_class}')\n",
    "print (f'С помощью numpy:\\n {corr_numpy}')\n",
    "print(f'C помощью Pandas:\\n {corr_pandas}')"
   ]
  },
  {
   "cell_type": "markdown",
   "id": "d3344a49",
   "metadata": {},
   "source": [
    "Задание №2.\n",
    "Измерены значения IQ выборки студентов,\n",
    "обучающихся в местных технических вузах:\n",
    "131, 125, 115, 122, 131, 115, 107, 99, 125, 111.\n",
    "Известно, что в генеральной совокупности IQ распределен нормально.\n",
    "Найдите доверительный интервал для математического ожидания с надежностью 0.95."
   ]
  },
  {
   "cell_type": "code",
   "execution_count": 37,
   "id": "2f8acfdf",
   "metadata": {},
   "outputs": [
    {
     "data": {
      "text/plain": [
       "(110.55608365158724, 125.64391634841274)"
      ]
     },
     "execution_count": 37,
     "metadata": {},
     "output_type": "execute_result"
    }
   ],
   "source": [
    "x = np.array([131.0, 125.0, 115.0, 122.0, 131.0, 115.0, 107.0, 99.0, 125.0, 111.0])\n",
    "mean_x = x.mean()\n",
    "std_x = x.std(ddof=1)\n",
    "mean_std_x = std_x / (np.sqrt(len(x)))\n",
    "t_stat(mean_x, mean_std_x,len(x) - 1, 0.05, 'two-sided')"
   ]
  },
  {
   "cell_type": "markdown",
   "id": "7d47113b",
   "metadata": {},
   "source": [
    "Задание №3. \n",
    "Известно, что рост футболистов в сборной распределен нормально\n",
    "с дисперсией генеральной совокупности, равной 25 кв.см. Объем выборки равен 27,\n",
    "среднее выборочное составляет 174.2. Найдите доверительный интервал для математического\n",
    "ожидания с надежностью 0.95.\n"
   ]
  },
  {
   "cell_type": "code",
   "execution_count": 38,
   "id": "dbe59070",
   "metadata": {},
   "outputs": [
    {
     "data": {
      "text/plain": [
       "(172.2220658754539, 176.17793412454608)"
      ]
     },
     "execution_count": 38,
     "metadata": {},
     "output_type": "execute_result"
    }
   ],
   "source": [
    "mean_x = 174.2\n",
    "std_x = np.sqrt(25)\n",
    "mean_std_x = std_x / np.sqrt(27)\n",
    "t_stat(mean_x, mean_std_x,27 - 1, 0.05, 'two-sided')"
   ]
  },
  {
   "cell_type": "code",
   "execution_count": null,
   "id": "2ef00820",
   "metadata": {},
   "outputs": [],
   "source": []
  }
 ],
 "metadata": {
  "kernelspec": {
   "display_name": "Python 3 (ipykernel)",
   "language": "python",
   "name": "python3"
  },
  "language_info": {
   "codemirror_mode": {
    "name": "ipython",
    "version": 3
   },
   "file_extension": ".py",
   "mimetype": "text/x-python",
   "name": "python",
   "nbconvert_exporter": "python",
   "pygments_lexer": "ipython3",
   "version": "3.9.2"
  }
 },
 "nbformat": 4,
 "nbformat_minor": 5
}
