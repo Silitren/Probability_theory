{
 "cells": [
  {
   "cell_type": "code",
   "execution_count": 127,
   "id": "c9f08b8e",
   "metadata": {},
   "outputs": [],
   "source": [
    "import numpy as np\n",
    "from sklearn.linear_model import LinearRegression\n",
    "from itertools import combinations\n",
    "import matplotlib.pyplot as plt\n",
    "from scipy import stats\n",
    "from sklearn.preprocessing import StandardScaler\n",
    "from sklearn.metrics import r2_score\n",
    "from itertools import combinations"
   ]
  },
  {
   "cell_type": "markdown",
   "id": "ce0904ee",
   "metadata": {},
   "source": [
    "__Задача 1__\n",
    "\n",
    "Дана матрица объект-признак\n",
    "```\n",
    "X = [[ 1.22401313,  2.30868478,  3.03636353,  2.69287214],\n",
    "     [-0.18757272,  1.30337355,  5.12093014,  3.46363202],\n",
    "     [-0.81094525,  1.82463398,  5.79686488,  1.86159445],\n",
    "     [ 0.75129018,  2.67392052,  3.65529809,  1.66746094],\n",
    "     [ 0.00972362,  1.97367255,  2.50594319,  1.69755173],\n",
    "     [-0.62972637,  0.77750764,  2.84124027,  4.54410559],\n",
    "     [ 2.29536229,  1.81206697,  1.95026215,  1.51874636],\n",
    "     [ 0.0920418 ,  2.26971361,  7.47708735,  2.61081203],\n",
    "     [ 2.39252799,  3.17563985,  3.61420599,  5.10773362],\n",
    "     [ 0.54983815,  2.87988651,  1.65752765,  1.59635987]]\n",
    "```\n",
    "и значения целевой переменной\n",
    "```\n",
    "y = [ 9.26193358,  9.700363  ,  8.67214805,  8.74796974,  6.18689108,\n",
    "      7.53312713,  7.57643777, 12.44965478, 14.29010746,  6.68361218]\n",
    "```\n",
    "\n",
    "Подберите два признака (из четырёх) так, чтобы уровень линейной зависимости целевой переменной от значений этих признаков был максимальным. Другими словами, модель линейной регрессии на этих признаках должна давать наилучший результат. В качестве ответа запишите значение коэффициента детерминации для модели на этих признаках.\n",
    "\n",
    "__Ответ__: 0.76342462"
   ]
  },
  {
   "cell_type": "code",
   "execution_count": 128,
   "id": "02dc60b1",
   "metadata": {},
   "outputs": [
    {
     "name": "stdout",
     "output_type": "stream",
     "text": [
      "Number of factors (features): 2, cols: (0, 1)\n",
      "Mean error: 0.000000\n",
      "R2 coef: 0.18113594742585215, R2 coef from sq. cov: 0.18113594742585226, R2 coef from sklearn: 0.18113594742585215\n",
      "Number of factors (features): 2, cols: (0, 2)\n",
      "Mean error: -0.000000\n",
      "R2 coef: 0.7634246238793152, R2 coef from sq. cov: 0.7634246238793152, R2 coef from sklearn: 0.7634246238793152\n",
      "Number of factors (features): 2, cols: (0, 3)\n",
      "Mean error: 0.000000\n",
      "R2 coef: 0.4532966783144077, R2 coef from sq. cov: 0.45329667831440756, R2 coef from sklearn: 0.4532966783144077\n",
      "Number of factors (features): 2, cols: (1, 2)\n",
      "Mean error: -0.000000\n",
      "R2 coef: 0.547948273403901, R2 coef from sq. cov: 0.547948273403901, R2 coef from sklearn: 0.547948273403901\n",
      "Number of factors (features): 2, cols: (1, 3)\n",
      "Mean error: 0.000000\n",
      "R2 coef: 0.6062055761129932, R2 coef from sq. cov: 0.6062055761129934, R2 coef from sklearn: 0.6062055761129932\n",
      "Number of factors (features): 2, cols: (2, 3)\n",
      "Mean error: -0.000000\n",
      "R2 coef: 0.622441987650532, R2 coef from sq. cov: 0.6224419876505323, R2 coef from sklearn: 0.6224419876505322\n",
      "Number of factors (features): 2, cols: (0, 2)\n",
      "Mean error: -0.000000\n",
      "R2 coef: 0.7634246238793152, R2 coef from sq. cov: 0.7634246238793152, R2 coef from sklearn: 0.7634246238793152\n"
     ]
    },
    {
     "data": {
      "text/plain": [
       "0.763424623879315"
      ]
     },
     "execution_count": 128,
     "metadata": {},
     "output_type": "execute_result"
    }
   ],
   "source": [
    "def sum_of_squares(samples: np.ndarray) -> float:\n",
    "    \"\"\"Сумма квадратов отклонений.\n",
    "    \"\"\"\n",
    "    return ((samples - samples.mean()) ** 2).sum()\n",
    "\n",
    "X = np.array( [[ 1.22401313,  2.30868478,  3.03636353,  2.69287214],\n",
    "     [-0.18757272,  1.30337355,  5.12093014,  3.46363202],\n",
    "     [-0.81094525,  1.82463398,  5.79686488,  1.86159445],\n",
    "     [ 0.75129018,  2.67392052,  3.65529809,  1.66746094],\n",
    "     [ 0.00972362,  1.97367255,  2.50594319,  1.69755173],\n",
    "     [-0.62972637,  0.77750764,  2.84124027,  4.54410559],\n",
    "     [ 2.29536229,  1.81206697,  1.95026215,  1.51874636],\n",
    "     [ 0.0920418 ,  2.26971361,  7.47708735,  2.61081203],\n",
    "     [ 2.39252799,  3.17563985,  3.61420599,  5.10773362],\n",
    "     [ 0.54983815,  2.87988651,  1.65752765,  1.59635987]])\n",
    "\n",
    "y =np.array( [9.26193358, 9.700363, 8.67214805, 8.74796974, 6.18689108,\n",
    "        7.53312713,  7.57643777, 12.44965478, 14.29010746,  6.68361218])\n",
    "\n",
    "def determination_coef(errors: np.ndarray, y_true: np.ndarray, y_pred: np.ndarray) -> float:\n",
    "    square_errors = ((errors - errors.mean()) ** 2).sum()\n",
    "    square_true = ((y_true - y_true.mean()) ** 2).sum()\n",
    "    R = 1 - square_errors / square_true\n",
    "    R_n = np.corrcoef(y_true, y_pred)**2\n",
    "    R_sk = r2_score(y_true, y_pred)\n",
    "    print(f'R2 coef: {R}, R2 coef from sq. cov: {R_n[0,1]}, R2 coef from sklearn: {R_sk}')\n",
    "    return R\n",
    "def linear_regression(X: np.ndarray, y: np.ndarray, indices: tuple) -> float:\n",
    "    ones = np.ones((X.shape[0], 1))\n",
    "    X = np.hstack((ones, X[:, indices]))\n",
    "    print(f'Number of factors (features): {X.shape[1]-1}, cols: {indices}')\n",
    "    X_ = X.T.dot(X)\n",
    "    X_ = np.linalg.inv(X_)\n",
    "    b = X_.dot(X.T).dot(y)\n",
    "    y_pred = X.dot(b)\n",
    "    errors = y - y_pred\n",
    "    print(f'Mean error: {errors.mean():5f}')\n",
    "    R = determination_coef(errors=errors, y_true=y, y_pred=y_pred)\n",
    "    return R\n",
    "indices = np.arange(4)\n",
    "r_scores = np.array([])\n",
    "subsets = []\n",
    "for idx in combinations(indices, r=X.shape[1]-2):\n",
    "    R = linear_regression(X, y, idx)\n",
    "    r_scores = np.append(r_scores, R)\n",
    "    subsets.append(idx)\n",
    "subsets[np.argmax(r_scores)]\n",
    "linear_regression(StandardScaler().fit_transform(X), y, (0,2))\n",
    "regr = LinearRegression()\n",
    "regr.fit(X[:, (0,2)], y)\n",
    "y_pred = regr.predict(X[:, (0,2)])\n",
    "r2_score(y, y_pred)"
   ]
  },
  {
   "cell_type": "markdown",
   "id": "81b562c2",
   "metadata": {},
   "source": [
    "_Задача 2__\n",
    "\n",
    "Является ли значимым уравнение регрессии, полученное в предыдущей задаче? В качестве ответа запишите 1, если является, и 0 иначе."
   ]
  },
  {
   "cell_type": "code",
   "execution_count": 130,
   "id": "92c08680",
   "metadata": {},
   "outputs": [
    {
     "data": {
      "image/png": "[encoded data removed]",
      "text/plain": [
       "<Figure size 432x288 with 1 Axes>"
      ]
     },
     "metadata": {
      "needs_background": "light"
     },
     "output_type": "display_data"
    },
    {
     "name": "stdout",
     "output_type": "stream",
     "text": [
      "Number of factors (features): 2, cols: (0, 2)\n",
      "Mean error: -0.000000\n",
      "R2 coef: 0.7634246238793152, R2 coef from sq. cov: 0.7634246238793152, R2 coef from sklearn: 0.7634246238793152\n",
      "Ответ: 1\n"
     ]
    }
   ],
   "source": [
    "n = X.shape[0]\n",
    "m = 2\n",
    "k1 = m\n",
    "k2 = n - m - 1\n",
    "k1, k2\n",
    "alpha = 0.05\n",
    "t = stats.f.ppf(1 - alpha, k1, k2)\n",
    "ox = np.linspace(2, 7, 500)\n",
    "oy = stats.f.pdf(ox, k1, k2)\n",
    "\n",
    "ox_right = np.linspace(t, 7, 100)\n",
    "oy_right = stats.f.pdf(ox_right, k1, k2)\n",
    "\n",
    "plt.title('F-statistic distribution')\n",
    "plt.plot(ox, oy)\n",
    "plt.fill_between(ox_right, oy_right, alpha=0.5)\n",
    "plt.grid()\n",
    "plt.show()\n",
    "R = linear_regression(X, y, (0,2))\n",
    "F = (R / k1) / ((1 - R) / k2)\n",
    "p_value = 1 - stats.f.cdf(F, dfn=k1, dfd=k2)\n",
    "p_value\n",
    "print('Ответ: 1')"
   ]
  },
  {
   "cell_type": "markdown",
   "id": "c0d3daa5",
   "metadata": {},
   "source": [
    "__Задача 3__\n",
    "\n",
    "Для проведения A/B-тестирования сайта интернет-магазина были получены следующие данные: страница `A` была посещена 2509 раз, из них 77 закончились совершением покупки, страница `B` была посещена 1465 раз, 60 из них закончились совершением покупки. Является ли значимым отличие конверсии на страницах `A` и `B`? В качестве ответа запишите 1, если является, и 0 иначе.\n",
    "\n",
    "_Подсказка_. Реализуйте двухвыборочный t-тест. В качестве выборок здесь можно взять наборы меток совершения покупки (0 или 1) каждым посетителем.\n"
   ]
  },
  {
   "cell_type": "code",
   "execution_count": 133,
   "id": "fd05890b",
   "metadata": {},
   "outputs": [
    {
     "name": "stdout",
     "output_type": "stream",
     "text": [
      "0 \n"
     ]
    }
   ],
   "source": [
    "A = np.zeros((2509,))\n",
    "B = np.zeros((1465,))\n",
    "A[-77:] = 1\n",
    "B[-60:] = 1\n",
    "n1 = A.size\n",
    "n2 = B.size\n",
    "\n",
    "s1 = A.std(ddof=1)\n",
    "s2 = B.std(ddof=1)\n",
    "s_delta = np.sqrt(s1 ** 2 / n1 + s2 ** 2 / n2)\n",
    "t = (A.mean() - B.mean()) / s_delta\n",
    "df = (s1 ** 2 / n1 + s2 ** 2 / n2) ** 2 / \\\n",
    "    ((s1 ** 2 / n1) ** 2 / (n1 - 1) + (s2 ** 2 / n2) ** 2 / (n2 - 1))\n",
    "alpha = 0.05\n",
    "\n",
    "t1 = stats.t.ppf(alpha / 2, df=df)\n",
    "t2 = stats.t.ppf(1 - alpha / 2, df=df)\n",
    "p_left = stats.t.cdf(t, df=df)\n",
    "p_right = 1 - stats.t.cdf(t, df=df)\n",
    "\n",
    "pvalue = 2 * min(p_left, p_right)\n",
    "\n",
    "print(f'0 ' if pvalue > alpha else '1')"
   ]
  },
  {
   "cell_type": "code",
   "execution_count": null,
   "id": "15c6bfc1",
   "metadata": {},
   "outputs": [],
   "source": []
  }
 ],
 "metadata": {
  "kernelspec": {
   "display_name": "Python 3 (ipykernel)",
   "language": "python",
   "name": "python3"
  },
  "language_info": {
   "codemirror_mode": {
    "name": "ipython",
    "version": 3
   },
   "file_extension": ".py",
   "mimetype": "text/x-python",
   "name": "python",
   "nbconvert_exporter": "python",
   "pygments_lexer": "ipython3",
   "version": "3.9.2"
  }
 },
 "nbformat": 4,
 "nbformat_minor": 5
}
