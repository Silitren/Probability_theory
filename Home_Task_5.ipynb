{
 "cells": [
  {
   "cell_type": "code",
   "execution_count": 10,
   "id": "8ace33db",
   "metadata": {},
   "outputs": [],
   "source": [
    "import numpy as np\n",
    "import scipy\n",
    "from scipy import stats\n",
    "from matplotlib import pyplot as plt\n",
    "from matplotlib import pyplot as plt\n",
    "\n",
    "plt.style.use('seaborn-whitegrid')\n",
    "%config InlineBackend.figure_formats = ['svg']"
   ]
  },
  {
   "cell_type": "markdown",
   "id": "5ce1c86e",
   "metadata": {},
   "source": [
    "Задание №1\n",
    "Известно, что генеральная совокупность распределена нормально с известным средним квадратическим отклонением 16. Найти ширину доверительного интервала для оценки математического ожидания `mu` с надёжностью 0.95, если выборочное среднее равно 80, а объём выборки равен 256."
   ]
  },
  {
   "cell_type": "code",
   "execution_count": 10,
   "id": "7b60fef5",
   "metadata": {},
   "outputs": [
    {
     "name": "stdout",
     "output_type": "stream",
     "text": [
      "-1.9693105698491928, 1.9693105698491928\n",
      "Доверительный интервал: (78.0306894301508, 81.9693105698492), Ширина доверительного интервала: 3.938621139698398\n"
     ]
    }
   ],
   "source": [
    "std = 16\n",
    "p = 0.95\n",
    "mean_x = 80 \n",
    "n = 256\n",
    "alpha = 1 - p\n",
    "\n",
    "t1 = stats.t.ppf(alpha / 2, df=n - 1)\n",
    "t2 = stats.t.ppf(1 - alpha / 2, df=n - 1)\n",
    "print(f'{t1}, {t2}')\n",
    "f = (mean_x + t1 * std / np.sqrt(n), mean_x + t2 * std / np.sqrt(n))\n",
    "height = (mean_x + t2 * std / np.sqrt(n)) - (mean_x + t1 * std / np.sqrt(n))\n",
    "print (f'Доверительный интервал: {f}, Ширина доверительного интервала: {height}')"
   ]
  },
  {
   "cell_type": "markdown",
   "id": "7552c4f5",
   "metadata": {},
   "source": [
    "Задание №2\n",
    "Продавец утверждает, что средний вес пачки печенья составляет 200 г. Из партии извлечена выборка из 10 пачек. Вес каждой пачки составляет:\n",
    "```\n",
    "202, 203, 199, 197, 195, 201, 200, 204, 194, 190\n",
    "```\n",
    "Известно, что их веса распределены нормально. Верно ли утверждение продавца, если учитывать, что уровень значимости равен 1%? Найдите P-значение для данного теста и укажите его в качестве ответа."
   ]
  },
  {
   "cell_type": "code",
   "execution_count": 111,
   "id": "74dc65de",
   "metadata": {},
   "outputs": [
    {
     "name": "stdout",
     "output_type": "stream",
     "text": [
      "Ttest_1sampResult(statistic=-1.0651074037450896, pvalue=0.3145666035247285)\n"
     ]
    }
   ],
   "source": [
    "mean_weight = 200\n",
    "n = 10\n",
    "samples = np.array ([202, 203, 199, 197, 195, 201, 200, 204, 194, 190])\n",
    "print(stats.ttest_1samp(samples, popmean=200))"
   ]
  },
  {
   "cell_type": "markdown",
   "id": "ac2b2d0e",
   "metadata": {},
   "source": [
    "Задание №3\n",
    "Дана выборка диаметров подшипников из примера 1 с занятия 5:\n",
    "```\n",
    "samples = [0.6603, 0.9466, 0.5968, 1.3792, 1.5481, 0.7515, 1.0681, 1.1134,\n",
    "           1.2088, 1.701 , 1.0282, 1.3579, 1.0191, 1.1784, 1.1168, 1.1372,\n",
    "           0.7273, 1.3958, 0.8665, 1.5112, 1.161 , 1.0232, 1.0865, 1.02  ]\n",
    "```\n",
    "Предполагая, что диаметры подшипников распределены нормально, проверьте гипотезу о том, что дисперсия случайной величины равна `0.0625` при уровне значимости `alpha = 0.05`. Что для этого нужно знать:\n",
    "1. Альтернативная гипотеза двухсторонняя.\n",
    "2. Статистика для теста: `H = (n - 1) * sample_variance / variance`, где `n` - число элементов в выборке, `sample_variance` - несмещённая оценка дисперсии, `variance` - утверждаемая нулевой гипотезой дисперсия.\n",
    "3. Эта статистика в предположении верности нулевой гипотезы имеет распределение хи-квадрат с параметром `df = n - 1`. Её квантили можно найти с помощью функции `scipy.stats.chi2.ppf`.\n",
    "\n",
    "В качестве ответа запишите 1, если нулевая гипотеза верна, и 0 иначе.\n"
   ]
  },
  {
   "cell_type": "code",
   "execution_count": 13,
   "id": "52aa06d7",
   "metadata": {},
   "outputs": [
    {
     "name": "stdout",
     "output_type": "stream",
     "text": [
      "24\n",
      "28.720541753333343\n",
      "nan\n",
      "Ответ: 0\n"
     ]
    }
   ],
   "source": [
    "samples = np.array([0.6603, 0.9466, 0.5968, 1.3792, 1.5481, 0.7515, 1.0681, 1.1134,\n",
    "           1.2088, 1.701 , 1.0282, 1.3579, 1.0191, 1.1784, 1.1168, 1.1372,\n",
    "           0.7273, 1.3958, 0.8665, 1.5112, 1.161 , 1.0232, 1.0865, 1.02])\n",
    "print (samples.shape[0])\n",
    "n = 24\n",
    "variance = 0.0625\n",
    "sample_variance = samples.var(ddof=1)\n",
    "H = (n - 1) * sample_variance / variance\n",
    "q = scipy.stats.chi2.ppf(H, df = n - 1)\n",
    "print (H)\n",
    "print (q)\n",
    "print ('Ответ: 0')"
   ]
  },
  {
   "cell_type": "code",
   "execution_count": null,
   "id": "d93fe459",
   "metadata": {},
   "outputs": [],
   "source": []
  }
 ],
 "metadata": {
  "kernelspec": {
   "display_name": "Python 3 (ipykernel)",
   "language": "python",
   "name": "python3"
  },
  "language_info": {
   "codemirror_mode": {
    "name": "ipython",
    "version": 3
   },
   "file_extension": ".py",
   "mimetype": "text/x-python",
   "name": "python",
   "nbconvert_exporter": "python",
   "pygments_lexer": "ipython3",
   "version": "3.10.1"
  }
 },
 "nbformat": 4,
 "nbformat_minor": 5
}
