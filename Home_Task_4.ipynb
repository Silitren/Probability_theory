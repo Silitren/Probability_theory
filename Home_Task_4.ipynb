{
 "cells": [
  {
   "cell_type": "code",
   "execution_count": 3,
   "id": "4d695ad9",
   "metadata": {},
   "outputs": [],
   "source": [
    "import pandas as pd\n",
    "import numpy as np\n",
    "import seaborn as sns\n",
    "from matplotlib import pyplot as plt\n",
    "from scipy import stats"
   ]
  },
  {
   "cell_type": "code",
   "execution_count": 6,
   "id": "15ab4cfd",
   "metadata": {},
   "outputs": [
    {
     "name": "stdout",
     "output_type": "stream",
     "text": [
      "среднее значение будет: 1.2745966692414834\n",
      "математическое ожидание через: 1.2677835193257243, выборочная дисперсия (несмещённая): 0.20258657229739432 \n"
     ]
    }
   ],
   "source": [
    "#Задача №2\n",
    "a = 0.5\n",
    "dx = 0.2\n",
    "b = (12 * dx) ** 0.5 + a\n",
    "#среднее значение будет соответствовать математическому ожиданию\n",
    "mx = (a + b) / 2\n",
    "samples = np.random.uniform(a, b, size=1000)\n",
    "#математическое ожидание \n",
    "samples.mean()\n",
    "#выборочная дисперсия (несмещённая)\n",
    "samples.var(ddof=1)\n",
    "print(f'среднее значение будет: {mx}')\n",
    "print(f'математическое ожидание через: {samples.mean()}, выборочная дисперсия (несмещённая): {samples.var(ddof=1)} ')"
   ]
  },
  {
   "cell_type": "code",
   "execution_count": null,
   "id": "0a5cf9af",
   "metadata": {},
   "outputs": [],
   "source": []
  }
 ],
 "metadata": {
  "kernelspec": {
   "display_name": "Python 3 (ipykernel)",
   "language": "python",
   "name": "python3"
  },
  "language_info": {
   "codemirror_mode": {
    "name": "ipython",
    "version": 3
   },
   "file_extension": ".py",
   "mimetype": "text/x-python",
   "name": "python",
   "nbconvert_exporter": "python",
   "pygments_lexer": "ipython3",
   "version": "3.9.2"
  }
 },
 "nbformat": 4,
 "nbformat_minor": 5
}
